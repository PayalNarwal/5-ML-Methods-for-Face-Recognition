{
 "cells": [
  {
   "cell_type": "code",
   "execution_count": 4,
   "metadata": {},
   "outputs": [
    {
     "name": "stdout",
     "output_type": "stream",
     "text": [
      "Images have been successfully copied and renamed.\n"
     ]
    }
   ],
   "source": [
    "import os\n",
    "import shutil\n",
    "\n",
    "# Define paths\n",
    "dataset_path = 'C:\\\\Users\\\\rahla\\\\Desktop\\\\AT&T Dataset\\\\converted_images'  # Replace with your dataset path\n",
    "output_folder = 'C:\\\\Users\\\\rahla\\\\Desktop\\\\AT&T Dataset\\\\dataset_photo'  # Replace with your desired output folder\n",
    "\n",
    "# Create output folder if it doesn't exist\n",
    "# os.makedirs(\"dataset_photo\", exist_ok=True)\n",
    "\n",
    "# Get list of subject folders\n",
    "subject_folders = sorted(os.listdir(dataset_path))\n",
    "\n",
    "# Process each subject folder\n",
    "for i, subject_folder in enumerate(subject_folders):\n",
    "    subject_path = os.path.join(dataset_path, subject_folder)\n",
    "    \n",
    "    if os.path.isdir(subject_path):\n",
    "        # Get the first image in the subject folder\n",
    "        image_files = sorted(os.listdir(subject_path))\n",
    "        if image_files:\n",
    "            first_image = image_files[0]\n",
    "            first_image_path = os.path.join(subject_path, first_image)\n",
    "            \n",
    "            # Create the new name with subject number and number of images\n",
    "            new_image_name = f'subject {i+1} ({len(image_files)} images).jpg'\n",
    "            new_image_path = os.path.join(output_folder, new_image_name)\n",
    "            \n",
    "            # Copy the first image to the new folder with the new name\n",
    "            shutil.copy(first_image_path, new_image_path)\n",
    "\n",
    "print(\"Images have been successfully copied and renamed.\")\n"
   ]
  },
  {
   "cell_type": "code",
   "execution_count": null,
   "metadata": {},
   "outputs": [],
   "source": []
  }
 ],
 "metadata": {
  "kernelspec": {
   "display_name": "Python 3",
   "language": "python",
   "name": "python3"
  },
  "language_info": {
   "codemirror_mode": {
    "name": "ipython",
    "version": 3
   },
   "file_extension": ".py",
   "mimetype": "text/x-python",
   "name": "python",
   "nbconvert_exporter": "python",
   "pygments_lexer": "ipython3",
   "version": "3.12.2"
  }
 },
 "nbformat": 4,
 "nbformat_minor": 2
}
